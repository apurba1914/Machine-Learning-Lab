{
  "cells": [
    {
      "cell_type": "markdown",
      "metadata": {
        "id": "view-in-github",
        "colab_type": "text"
      },
      "source": [
        "<a href=\"https://colab.research.google.com/github/apurba1914/Machine-Learning-Lab/blob/main/NN_from_scratch_Lab_03_Roll_19.ipynb\" target=\"_parent\"><img src=\"https://colab.research.google.com/assets/colab-badge.svg\" alt=\"Open In Colab\"/></a>"
      ]
    },
    {
      "cell_type": "markdown",
      "metadata": {
        "id": "3EmdsW-8JyMG"
      },
      "source": [
        "## Imports"
      ]
    },
    {
      "cell_type": "code",
      "execution_count": 45,
      "metadata": {
        "id": "t8jccgOwJyMI"
      },
      "outputs": [],
      "source": [
        "import matplotlib.pyplot as plt\n",
        "import matplotlib\n",
        "import numpy as np\n",
        "from numpy import ndarray\n",
        "%matplotlib inline\n",
        "\n",
        "from typing import Callable\n",
        "from typing import Dict"
      ]
    },
    {
      "cell_type": "code",
      "execution_count": null,
      "metadata": {
        "id": "pmz5Kn6eJyMK"
      },
      "outputs": [],
      "source": [
        "np.set_printoptions(precision=4)"
      ]
    },
    {
      "cell_type": "markdown",
      "metadata": {
        "id": "fc9KFG_OJyMK"
      },
      "source": [
        "# Illustration of Python lists vs. Numpy arrays"
      ]
    },
    {
      "cell_type": "code",
      "execution_count": null,
      "metadata": {
        "id": "0JEyLeMdJyMK",
        "outputId": "dbcfafd3-a498-4206-9948-ca95d19b0956",
        "colab": {
          "base_uri": "https://localhost:8080/"
        }
      },
      "outputs": [
        {
          "output_type": "stream",
          "name": "stdout",
          "text": [
            "Python list operations:\n",
            "a+b: [1, 2, 3, 4, 5, 6]\n",
            "a*b has no meaning for Python lists\n",
            "\n",
            "Numpy array operations:\n",
            "a+b: [5 7 9]\n",
            "a*b: [ 4 10 18]\n"
          ]
        }
      ],
      "source": [
        "print(\"Python list operations:\")\n",
        "a = [1,2,3]\n",
        "b = [4,5,6]\n",
        "print(\"a+b:\", a + b)\n",
        "try:\n",
        "    print(a * b)\n",
        "except TypeError:\n",
        "    print(\"a*b has no meaning for Python lists\")\n",
        "print()\n",
        "print(\"Numpy array operations:\")\n",
        "a = np.array([1,2,3])\n",
        "b = np.array([4,5,6])\n",
        "print(\"a+b:\", a + b)\n",
        "print(\"a*b:\", a * b)"
      ]
    },
    {
      "cell_type": "code",
      "execution_count": null,
      "metadata": {
        "id": "FkCHTR9hJyML",
        "outputId": "793f883f-b37f-41b1-84a3-c29b5e23a899",
        "colab": {
          "base_uri": "https://localhost:8080/"
        }
      },
      "outputs": [
        {
          "output_type": "stream",
          "name": "stdout",
          "text": [
            "[[1 2 3]\n",
            " [4 5 6]]\n"
          ]
        }
      ],
      "source": [
        "a = np.array([[1,2,3],\n",
        "              [4,5,6]])\n",
        "print(a)"
      ]
    },
    {
      "cell_type": "code",
      "execution_count": null,
      "metadata": {
        "id": "QMPGcr9aJyML",
        "outputId": "58a108dc-3578-49a9-8c76-18227134de62",
        "colab": {
          "base_uri": "https://localhost:8080/"
        }
      },
      "outputs": [
        {
          "output_type": "stream",
          "name": "stdout",
          "text": [
            "a + b:\n",
            " [[11 22 33]\n",
            " [14 25 36]]\n"
          ]
        }
      ],
      "source": [
        "b = np.array([10,20,30])\n",
        "print(\"a + b:\\n\", a + b)"
      ]
    },
    {
      "cell_type": "code",
      "execution_count": null,
      "metadata": {
        "id": "NKUM2sGJJyMM",
        "outputId": "6f00f23b-0624-4130-a0b4-0c114bb52437",
        "colab": {
          "base_uri": "https://localhost:8080/"
        }
      },
      "outputs": [
        {
          "output_type": "stream",
          "name": "stdout",
          "text": [
            "a:\n",
            "[[1 2 3]\n",
            " [4 5 6]]\n",
            "a.sum(axis=0): [5 7 9]\n",
            "a.sum(axis=1): [ 6 15]\n"
          ]
        }
      ],
      "source": [
        "print('a:')\n",
        "print(a)\n",
        "print('a.sum(axis=0):', a.sum(axis=0))\n",
        "print('a.sum(axis=1):', a.sum(axis=1))"
      ]
    },
    {
      "cell_type": "markdown",
      "metadata": {
        "id": "0N0jrP6iJyMM"
      },
      "source": [
        "# Basic functions"
      ]
    },
    {
      "cell_type": "code",
      "execution_count": null,
      "metadata": {
        "id": "DfwxDWOQJyMM"
      },
      "outputs": [],
      "source": [
        "def square(x: ndarray) -> ndarray:\n",
        "    '''\n",
        "    Square each element in the input ndarray.\n",
        "    '''\n",
        "    return np.power(x, 2)\n",
        "\n",
        "def leaky_relu(x: ndarray) -> ndarray:\n",
        "    '''\n",
        "    Apply \"Leaky ReLU\" function to each element in ndarray\n",
        "    '''\n",
        "    #write the equation for leaky relu and return it\n",
        "    return np.maximum( x, 0.01 * x)"
      ]
    },
    {
      "cell_type": "code",
      "execution_count": null,
      "metadata": {
        "id": "AU0TbJO5JyMN"
      },
      "outputs": [],
      "source": [
        "# IMG_FOLDER_PATH = '/Users/seth/development/01_deep-learning-from-scratch/images/01_foundations/'\n",
        "# PDF_IMG_FOLDER_PATH = '/Users/seth/development/01_deep-learning-from-scratch/pdf_images/01_foundations/'"
      ]
    },
    {
      "cell_type": "code",
      "execution_count": null,
      "metadata": {
        "id": "TXvTJkLAJyMN",
        "outputId": "b0b21a09-c13e-48f8-d268-b71045ab1f6c",
        "colab": {
          "base_uri": "https://localhost:8080/",
          "height": 564
        }
      },
      "outputs": [
        {
          "output_type": "display_data",
          "data": {
            "text/plain": [
              "<Figure size 1200x600 with 2 Axes>"
            ],
            "image/png": "[encoded data removed]"
          },
          "metadata": {}
        }
      ],
      "source": [
        "fig, ax = plt.subplots(1, 2, sharey=True, figsize=(12, 6))  # 2 Rows, 1 Col\n",
        "\n",
        "input_range = np.arange(-2, 2, 0.01)\n",
        "ax[0].plot(input_range, square(input_range))\n",
        "ax[0].plot(input_range, square(input_range))\n",
        "ax[0].set_title('Square function')\n",
        "ax[0].set_xlabel('input')\n",
        "ax[0].set_ylabel('input')\n",
        "\n",
        "ax[1].plot(input_range, leaky_relu(input_range))\n",
        "ax[1].plot(input_range, leaky_relu(input_range))\n",
        "ax[1].set_title('\"ReLU\" function')\n",
        "ax[1].set_xlabel('input')\n",
        "ax[1].set_ylabel('output');\n",
        "# plt.savefig(IMG_FOLDER_PATH + \"01_two_functions.png\")\n",
        "# plt.savefig(PDF_IMG_FOLDER_PATH + \"01_two_functions.pdf\")"
      ]
    },
    {
      "cell_type": "code",
      "execution_count": null,
      "metadata": {
        "id": "QAh8-x5TJyMN"
      },
      "outputs": [],
      "source": [
        "from typing import Callable\n",
        "\n",
        "def deriv(func: Callable[[ndarray], ndarray],\n",
        "          input_: ndarray,\n",
        "          diff: float = 0.001) -> ndarray:\n",
        "    '''\n",
        "    Evaluates the derivative of a function \"func\" at every element in the \"input_\" array.\n",
        "    '''\n",
        "    # write the equation for derivative and return it\n",
        "    return (func(input_ + diff) - func(input_)) / diff"
      ]
    },
    {
      "cell_type": "markdown",
      "metadata": {
        "id": "65lsKA_HJyMN"
      },
      "source": [
        "# `Chain`"
      ]
    },
    {
      "cell_type": "code",
      "execution_count": null,
      "metadata": {
        "id": "kDCviYbAJyMN"
      },
      "outputs": [],
      "source": [
        "from typing import List\n",
        "\n",
        "# A Function takes in an ndarray as an argument and produces an ndarray\n",
        "Array_Function = Callable[[ndarray], ndarray]\n",
        "\n",
        "# A Chain is a list of functions\n",
        "Chain = List[Array_Function]"
      ]
    },
    {
      "cell_type": "code",
      "execution_count": null,
      "metadata": {
        "id": "KeZwZqgiJyMN"
      },
      "outputs": [],
      "source": [
        "def chain_length_2(chain: Chain,\n",
        "                   x: ndarray) -> ndarray:\n",
        "    '''\n",
        "    Evaluates two functions in a row, in a \"Chain\".\n",
        "    '''\n",
        "    assert len(chain) == 2, \\\n",
        "    \"Length of input 'chain' should be 2\"\n",
        "    #write your code and return it\n",
        "\n",
        "    return chain[1](chain[0](x))"
      ]
    },
    {
      "cell_type": "markdown",
      "metadata": {
        "id": "sHJrTSeYJyMO"
      },
      "source": [
        "## Chain derivative"
      ]
    },
    {
      "cell_type": "code",
      "execution_count": null,
      "metadata": {
        "id": "xMNfHhp5JyMO"
      },
      "outputs": [],
      "source": [
        "def square(x: ndarray) -> ndarray:\n",
        "    '''\n",
        "    Square each element in the input Tensor.\n",
        "    '''\n",
        "    return np.power(x, 2)\n",
        "\n",
        "def sigmoid(x: ndarray) -> ndarray:\n",
        "    '''\n",
        "    Apply the sigmoid function to each element in the input ndarray.\n",
        "    '''\n",
        "    # write your code and return it\n",
        "    return 1 / (1 + np.exp(-x))\n"
      ]
    },
    {
      "cell_type": "code",
      "execution_count": null,
      "metadata": {
        "id": "2SEPkB-kJyMO"
      },
      "outputs": [],
      "source": [
        "def chain_deriv_2(chain: Chain,\n",
        "                  input_range: ndarray) -> ndarray:\n",
        "    '''\n",
        "    Uses the chain rule to compute the derivative of two nested functions:\n",
        "    (f2(f1(x))' = f2'(f1(x)) * f1'(x)\n",
        "    '''\n",
        "\n",
        "    assert len(chain) == 2, \\\n",
        "    \"This function requires 'Chain' objects of length 2\"\n",
        "\n",
        "    assert input_range.ndim == 1, \\\n",
        "    \"Function requires a 1 dimensional ndarray as input_range\"\n",
        "\n",
        "    # Multiplying these quantities together at each point\n",
        "    return deriv(chain[1], chain[0](input_range)) * deriv(chain[0], input_range)"
      ]
    },
    {
      "cell_type": "code",
      "execution_count": null,
      "metadata": {
        "id": "dd7ydaDTJyMO"
      },
      "outputs": [],
      "source": [
        "def plot_chain(ax,\n",
        "               chain: Chain,\n",
        "               input_range: ndarray) -> None:\n",
        "    '''\n",
        "    Plots a chain function - a function made up of\n",
        "    multiple consecutive ndarray -> ndarray mappings -\n",
        "    Across the input_range\n",
        "\n",
        "    ax: matplotlib Subplot for plotting\n",
        "    '''\n",
        "\n",
        "    assert input_range.ndim == 1, \\\n",
        "    \"Function requires a 1 dimensional ndarray as input_range\"\n",
        "\n",
        "    output_range = chain_length_2(chain, input_range)\n",
        "    ax.plot(input_range, output_range)"
      ]
    },
    {
      "cell_type": "code",
      "execution_count": null,
      "metadata": {
        "id": "qYkJ1JXqJyMO"
      },
      "outputs": [],
      "source": [
        "def plot_chain_deriv(ax,\n",
        "                     chain: Chain,\n",
        "                     input_range: ndarray) -> ndarray:\n",
        "    '''\n",
        "    Uses the chain rule to plot the derivative of a function consisting of two nested functions.\n",
        "\n",
        "    ax: matplotlib Subplot for plotting\n",
        "    '''\n",
        "    output_range = chain_deriv_2(chain, input_range)\n",
        "    ax.plot(input_range, output_range)"
      ]
    },
    {
      "cell_type": "code",
      "execution_count": null,
      "metadata": {
        "id": "Zz-8CQ5OJyMO",
        "outputId": "6328287c-f839-4ccc-81ae-a6e2907c911f",
        "colab": {
          "base_uri": "https://localhost:8080/",
          "height": 722
        }
      },
      "outputs": [
        {
          "output_type": "display_data",
          "data": {
            "text/plain": [
              "<Figure size 1600x800 with 2 Axes>"
            ],
            "image/png": "[encoded data removed]"
          },
          "metadata": {}
        }
      ],
      "source": [
        "fig, ax = plt.subplots(1, 2, sharey=True, figsize=(16, 8))  # 2 Rows, 1 Col\n",
        "\n",
        "chain_1 = [square, sigmoid]\n",
        "chain_2 = [sigmoid, square]\n",
        "\n",
        "PLOT_RANGE = np.arange(-3, 3, 0.01)\n",
        "plot_chain(ax[0], chain_1, PLOT_RANGE)\n",
        "plot_chain_deriv(ax[0], chain_1, PLOT_RANGE)\n",
        "\n",
        "ax[0].legend([\"$f(x)$\", \"$\\\\frac{df}{dx}$\"])\n",
        "ax[0].set_title(\"Function and derivative for\\n$f(x) = sigmoid(square(x))$\")\n",
        "\n",
        "plot_chain(ax[1], chain_2, PLOT_RANGE)\n",
        "plot_chain_deriv(ax[1], chain_2, PLOT_RANGE)\n",
        "ax[1].legend([\"$f(x)$\", \"$\\\\frac{df}{dx}$\"])\n",
        "ax[1].set_title(\"Function and derivative for\\n$f(x) = square(sigmoid(x))$\");\n",
        "\n",
        "# plt.savefig(IMG_FOLDER_PATH + \"08_plot_chain_rule_1.png\");\n",
        "# plt.savefig(PDF_IMG_FOLDER_PATH + \"08_plot_chain_rule_1.pdf\");"
      ]
    },
    {
      "cell_type": "markdown",
      "metadata": {
        "id": "_0rPvjXIJyMO"
      },
      "source": [
        "# `Chain of length 3`"
      ]
    },
    {
      "cell_type": "code",
      "execution_count": null,
      "metadata": {
        "id": "zEnxdpKDJyMO"
      },
      "outputs": [],
      "source": [
        "def chain_length_3(chain: Chain,\n",
        "                   x: ndarray) -> ndarray:\n",
        "    '''\n",
        "    Evaluates three functions in a row, in a \"Chain\".\n",
        "    '''\n",
        "    assert len(chain) == 3, \\\n",
        "    \"Length of input 'chain' should be 3\"\n",
        "\n",
        "\n",
        "    return chain[2](chain[1](chain[0](x)))"
      ]
    },
    {
      "cell_type": "code",
      "execution_count": null,
      "metadata": {
        "id": "QhRySwwFJyMO"
      },
      "outputs": [],
      "source": [
        "def chain_deriv_3(chain: Chain,\n",
        "                  input_range: ndarray) -> ndarray:\n",
        "    '''\n",
        "    Uses the chain rule to compute the derivative of three nested functions:\n",
        "    (f3(f2(f1)))' = f3'(f2(f1(x))) * f2'(f1(x)) * f1'(x)\n",
        "    '''\n",
        "\n",
        "    assert len(chain) == 3, \\\n",
        "    \"This function requires 'Chain' objects to have length 3\"\n",
        "\n",
        "    assert input_range.ndim == 1, \\\n",
        "    \"Function requires a 1 dimensional ndarray as input_range\"\n",
        "    # f1(x)\n",
        "    f1x = chain[0](input_range)\n",
        "\n",
        "    # f2(f1(x))\n",
        "    f2f1x = chain[1](f1x)\n",
        "\n",
        "    # df3du\n",
        "    df3du = deriv(chain[2], f2f1x)\n",
        "\n",
        "    # df2du\n",
        "    df2du = deriv(chain[1], f1x)\n",
        "\n",
        "    # df1dx\n",
        "    df1dx = deriv(chain[0], input_range)\n",
        "\n",
        "    # Multiplying these quantities together at each point\n",
        "    return df3du * df2du * df1dx"
      ]
    },
    {
      "cell_type": "code",
      "execution_count": null,
      "metadata": {
        "id": "Qn6aLanqJyMP"
      },
      "outputs": [],
      "source": [
        "def square(x: ndarray) -> ndarray:\n",
        "    '''\n",
        "    Square each element in the input ndarray.\n",
        "    '''\n",
        "    return np.power(x, 2)\n",
        "\n",
        "def leaky_relu(x: ndarray) -> ndarray:\n",
        "    '''\n",
        "    Apply \"Leaky ReLU\" function to each element in ndarray\n",
        "    '''\n",
        "    return np.maximum(x, 0.01 * x)\n",
        "\n",
        "def sigmoid(x: ndarray) -> ndarray:\n",
        "    '''\n",
        "    Apply \"sigmoid\" function to each element in ndarray\n",
        "    '''\n",
        "    return 1 / (1 + np.exp(-x))"
      ]
    },
    {
      "cell_type": "code",
      "execution_count": null,
      "metadata": {
        "id": "YVBLRenwJyMP"
      },
      "outputs": [],
      "source": [
        "def plot_chain(ax,\n",
        "               chain: Chain,\n",
        "               input_range: ndarray,\n",
        "               length: int=2) -> None:\n",
        "    '''\n",
        "    Plots a chain function - a function made up of\n",
        "    multiple consecutive ndarray -> ndarray mappings - across one range\n",
        "\n",
        "    ax: matplotlib Subplot for plotting\n",
        "    '''\n",
        "\n",
        "    assert input_range.ndim == 1, \\\n",
        "    \"Function requires a 1 dimensional ndarray as input_range\"\n",
        "    if length == 2:\n",
        "        output_range = chain_length_2(chain, input_range)\n",
        "    elif length == 3:\n",
        "        output_range = chain_length_3(chain, input_range)\n",
        "    ax.plot(input_range, output_range)"
      ]
    },
    {
      "cell_type": "code",
      "execution_count": null,
      "metadata": {
        "id": "0STWK3AuJyMP"
      },
      "outputs": [],
      "source": [
        "def plot_chain_deriv(ax,\n",
        "                     chain: Chain,\n",
        "                     input_range: ndarray,\n",
        "                     length: int=2) -> ndarray:\n",
        "    '''\n",
        "    Uses the chain rule to plot the derivative of two nested functions.\n",
        "\n",
        "    ax: matplotlib Subplot for plotting\n",
        "    '''\n",
        "\n",
        "    if length == 2:\n",
        "        output_range = chain_deriv_2(chain, input_range)\n",
        "    elif length == 3:\n",
        "        output_range = chain_deriv_3(chain, input_range)\n",
        "    ax.plot(input_range, output_range)"
      ]
    },
    {
      "cell_type": "code",
      "execution_count": null,
      "metadata": {
        "id": "l5OdwM_VJyMP",
        "outputId": "2c87b4c9-f38f-46f7-e16c-06326987e0f6",
        "colab": {
          "base_uri": "https://localhost:8080/",
          "height": 722
        }
      },
      "outputs": [
        {
          "output_type": "display_data",
          "data": {
            "text/plain": [
              "<Figure size 1600x800 with 2 Axes>"
            ],
            "image/png": "[encoded data removed]"
          },
          "metadata": {}
        }
      ],
      "source": [
        "fig, ax = plt.subplots(1, 2, sharey=True, figsize=(16, 8))  # 2 Rows, 1 Col\n",
        "\n",
        "chain_1 = [leaky_relu, square, sigmoid]\n",
        "chain_2 = [leaky_relu, sigmoid, square]\n",
        "\n",
        "PLOT_RANGE = np.arange(-3, 3, 0.01)\n",
        "plot_chain(ax[0], chain_1, PLOT_RANGE, length=3)\n",
        "plot_chain_deriv(ax[0], chain_1, PLOT_RANGE, length=3)\n",
        "\n",
        "ax[0].legend([\"$f(x)$\", \"$\\\\frac{df}{dx}$\"])\n",
        "ax[0].set_title(\"Function and derivative for\\n$f(x) = sigmoid(square(leakyRrelu(x)))$\")\n",
        "\n",
        "plot_chain(ax[1], chain_2, PLOT_RANGE, length=3)\n",
        "plot_chain_deriv(ax[1], chain_2, PLOT_RANGE, length=3)\n",
        "ax[1].legend([\"$f(x)$\", \"$\\\\frac{df}{dx}$\"])\n",
        "ax[1].set_title(\"Function and derivative for\\n$f(x) = square(sigmoid(leakyRelu(x)))$\");\n",
        "\n",
        "# plt.savefig(IMG_FOLDER_PATH + \"09_plot_chain_rule_2.png\");\n",
        "# plt.savefig(PDF_IMG_FOLDER_PATH + \"09_plot_chain_rule_2.pdf\");"
      ]
    },
    {
      "cell_type": "markdown",
      "metadata": {
        "id": "xELp8PBVJyMP"
      },
      "source": [
        "# Function with multiple inputs example"
      ]
    },
    {
      "cell_type": "code",
      "execution_count": null,
      "metadata": {
        "id": "qhfi6H8fJyMP"
      },
      "outputs": [],
      "source": [
        "def multiple_inputs_add(x: ndarray,\n",
        "                        y: ndarray,\n",
        "                        sigma: Array_Function) -> float:\n",
        "    '''\n",
        "    Function with multiple inputs and addition, forward pass\n",
        "    '''\n",
        "    assert x.shape == y.shape\n",
        "\n",
        "    a = x + y\n",
        "    return sigma(a)"
      ]
    },
    {
      "cell_type": "code",
      "execution_count": null,
      "metadata": {
        "id": "oWYDNAcfJyMP"
      },
      "outputs": [],
      "source": [
        "def multiple_inputs_add_backward(x: ndarray,\n",
        "                                 y: ndarray,\n",
        "                                 sigma: Array_Function) -> float:\n",
        "    '''\n",
        "    Computes the derivative of this simple function with respect to\n",
        "    both inputs\n",
        "    '''\n",
        "    # Compute \"forward pass\"\n",
        "    a = x + y\n",
        "\n",
        "    # Compute derivatives\n",
        "    dsda = deriv(sigma, a)\n",
        "\n",
        "    dadx, dady = 1, 1\n",
        "\n",
        "    return dsda * dadx, dsda * dady"
      ]
    },
    {
      "cell_type": "markdown",
      "metadata": {
        "id": "3K41KASQJyMP"
      },
      "source": [
        "# Function with matrix multiplication"
      ]
    },
    {
      "cell_type": "code",
      "execution_count": null,
      "metadata": {
        "id": "IXj-_HYVJyMQ"
      },
      "outputs": [],
      "source": [
        "def matmul_forward(X: ndarray,\n",
        "                   W: ndarray) -> ndarray:\n",
        "    '''\n",
        "    Computes the forward pass of a matrix multiplication\n",
        "    '''\n",
        "\n",
        "    assert X.shape[1] == W.shape[0], \\\n",
        "    '''\n",
        "    For matrix multiplication, the number of columns in the first array should match the\n",
        "    number of rows in the second, instead the number of columns in the first array is {0}\n",
        "    and the number of rows in the second array is {1}\n",
        "    '''.format(X.shape[1], W.shape[0])\n",
        "\n",
        "    # matrix multiplication\n",
        "    N = np.dot(X, W)\n",
        "\n",
        "    return N"
      ]
    },
    {
      "cell_type": "code",
      "execution_count": null,
      "metadata": {
        "id": "YEB9mpMNJyMQ"
      },
      "outputs": [],
      "source": [
        "def matmul_backward_first(X: ndarray,\n",
        "                          W: ndarray) -> ndarray:\n",
        "    '''\n",
        "    Computes the backward pass of a matrix multiplication with respect to the first argument.\n",
        "    '''\n",
        "\n",
        "    # backward pass\n",
        "    dNdX = W.T\n",
        "\n",
        "    return dNdX"
      ]
    },
    {
      "cell_type": "code",
      "execution_count": null,
      "metadata": {
        "id": "8FhD5rQaJyMQ",
        "outputId": "4ff17b11-b05d-4031-ae62-a501da5bfe08",
        "colab": {
          "base_uri": "https://localhost:8080/"
        }
      },
      "outputs": [
        {
          "output_type": "stream",
          "name": "stdout",
          "text": [
            "[[ 0.4723  0.6151 -1.7262]]\n"
          ]
        },
        {
          "output_type": "execute_result",
          "data": {
            "text/plain": [
              "array([[ 0.9282, -0.6075, -1.2214]])"
            ]
          },
          "metadata": {},
          "execution_count": 28
        }
      ],
      "source": [
        "np.random.seed(190203)\n",
        "\n",
        "X = np.random.randn(1,3)\n",
        "W = np.random.randn(3,1)\n",
        "\n",
        "print(X)\n",
        "matmul_backward_first(X, W)"
      ]
    },
    {
      "cell_type": "code",
      "execution_count": null,
      "metadata": {
        "id": "2lenunC0JyMQ"
      },
      "outputs": [],
      "source": [
        "def matrix_forward_extra(X: ndarray,\n",
        "                         W: ndarray,\n",
        "                         sigma: Array_Function) -> ndarray:\n",
        "    '''\n",
        "    Computes the forward pass of a function involving matrix multiplication, one extra function\n",
        "    '''\n",
        "    assert X.shape[1] == W.shape[0]\n",
        "\n",
        "    # matrix multiplication\n",
        "    N = np.dot(X, W)\n",
        "\n",
        "    # feeding the output of the matrix multiplication through sigma\n",
        "    S = sigma(N)\n",
        "    return S"
      ]
    },
    {
      "cell_type": "markdown",
      "metadata": {
        "id": "WXwMbOnTJyMQ"
      },
      "source": [
        "# Derivative of a function with matrix multiplication"
      ]
    },
    {
      "cell_type": "markdown",
      "metadata": {
        "id": "vKWj60V8JyMQ"
      },
      "source": [
        "If:\n",
        "\n",
        "* $X$ is $m x n$\n",
        "* $W$ is $n x p$\n",
        "\n",
        "Then $X * W$ will be $m x p$:\n",
        "\n",
        "If the derivative of a loss with respect to each output $N$ is $m x p$, then\n",
        "\n",
        "* $\\frac{\\partial N}{\\partial X} = N * W^T$ (`np.dot((m,p), (p,n)) = m x n`\n",
        "* $\\frac{\\partial N}{\\partial W} = X^T * N$ (`np.dot((n,m), (m,p)) = n x p`\n",
        "\n",
        "In particular, the matrix multiplication on the backward pass must be done in this order."
      ]
    },
    {
      "cell_type": "code",
      "execution_count": null,
      "metadata": {
        "id": "v2D8wq4vJyMT"
      },
      "outputs": [],
      "source": [
        "def matrix_function_backward_1(X: ndarray,\n",
        "                               W: ndarray,\n",
        "                               sigma: Array_Function) -> ndarray:\n",
        "    '''\n",
        "    Computes the derivative of our matrix function with respect to\n",
        "    the first element.\n",
        "    '''\n",
        "    assert X.shape[1] == W.shape[0]\n",
        "\n",
        "    # matrix multiplication\n",
        "    N = np.dot(X, W)\n",
        "\n",
        "    # feeding the output of the matrix multiplication through sigma\n",
        "    S = sigma(N)\n",
        "\n",
        "    # backward calculation\n",
        "    dSdN = sigma(N) * (1 - sigma(N))\n",
        "\n",
        "    # dNdX\n",
        "    dNdX = W.T\n",
        "\n",
        "\n",
        "    # multiply them together; since dNdX is 1x1 here, order doesn't matter\n",
        "    return np.dot(dSdN, dNdX)"
      ]
    },
    {
      "cell_type": "code",
      "execution_count": null,
      "metadata": {
        "id": "oImoJEmLJyMT",
        "outputId": "6cb850fc-6d3b-46c2-cb64-69a011ae74ca",
        "colab": {
          "base_uri": "https://localhost:8080/"
        }
      },
      "outputs": [
        {
          "output_type": "stream",
          "name": "stdout",
          "text": [
            "[[ 0.0852 -0.0557 -0.1121]]\n"
          ]
        }
      ],
      "source": [
        "print(matrix_function_backward_1(X, W, sigmoid))"
      ]
    },
    {
      "cell_type": "code",
      "execution_count": null,
      "metadata": {
        "id": "bcymqeZhJyMU"
      },
      "outputs": [],
      "source": [
        "def forward_test(ind1, ind2, inc):\n",
        "\n",
        "    X1 = X.copy()\n",
        "    X1[ind1, ind2] = X[ind1, ind2] + inc\n",
        "\n",
        "    return matrix_forward_extra(X1, W, sigmoid)"
      ]
    },
    {
      "cell_type": "code",
      "execution_count": null,
      "metadata": {
        "id": "1Mb3D8GDJyMU",
        "outputId": "ea443c5a-abdf-4f3d-bec8-669d2713b59a",
        "colab": {
          "base_uri": "https://localhost:8080/"
        }
      },
      "outputs": [
        {
          "output_type": "execute_result",
          "data": {
            "text/plain": [
              "array([[-0.11]])"
            ]
          },
          "metadata": {},
          "execution_count": 33
        }
      ],
      "source": [
        "(np.round(forward_test(0, 2, 0.01) - forward_test(0, 2, 0), 4)) / 0.01"
      ]
    },
    {
      "cell_type": "code",
      "execution_count": null,
      "metadata": {
        "id": "deIvlBEFJyMU",
        "outputId": "c0d60718-983d-496c-9d1c-40f3eee5fccf",
        "colab": {
          "base_uri": "https://localhost:8080/"
        }
      },
      "outputs": [
        {
          "output_type": "execute_result",
          "data": {
            "text/plain": [
              "-0.11"
            ]
          },
          "metadata": {},
          "execution_count": 34
        }
      ],
      "source": [
        "np.round(matrix_function_backward_1(X, W, sigmoid)[0, 2], 2)"
      ]
    },
    {
      "cell_type": "markdown",
      "metadata": {
        "id": "pHXoVj6BJyMU"
      },
      "source": [
        "Same! Gradients check."
      ]
    },
    {
      "cell_type": "markdown",
      "metadata": {
        "id": "VhEQO41QJyMU"
      },
      "source": [
        "# Matrix function with sum"
      ]
    },
    {
      "cell_type": "code",
      "execution_count": null,
      "metadata": {
        "id": "KIKmSRngJyMU"
      },
      "outputs": [],
      "source": [
        "def matrix_function_forward_sum(X: ndarray,\n",
        "                                W: ndarray,\n",
        "                                sigma: Array_Function) -> float:\n",
        "    '''\n",
        "    Computing the result of the forward pass of this function with\n",
        "    input ndarrays X and W and function sigma.\n",
        "    '''\n",
        "    assert X.shape[1] == W.shape[0]\n",
        "\n",
        "    # matrix multiplication\n",
        "    N = np.dot(X, W)\n",
        "\n",
        "    # feeding the output of the matrix multiplication through sigma\n",
        "    S = sigma(N)\n",
        "\n",
        "    # sum all the elements\n",
        "    L = np.sum(S)\n",
        "\n",
        "    return L"
      ]
    },
    {
      "cell_type": "code",
      "execution_count": null,
      "metadata": {
        "id": "wkqKqPGcJyMU"
      },
      "outputs": [],
      "source": [
        "def matrix_function_backward_1(X: ndarray,\n",
        "                               W: ndarray,\n",
        "                               sigma: Array_Function) -> ndarray:\n",
        "    '''\n",
        "    Computes the derivative of this function with respect to\n",
        "    the first element.\n",
        "    '''\n",
        "    assert X.shape[1] == W.shape[0]\n",
        "\n",
        "    # matrix multiplication\n",
        "    N = np.dot(X, W)\n",
        "\n",
        "    # feeding the output of the matrix multiplication through sigma\n",
        "    S = sigma(N)\n",
        "\n",
        "    # backward calculation\n",
        "    dSdN = sigma(N) * (1 - sigma(N))\n",
        "\n",
        "    # dNdX\n",
        "    dNdX = W.T\n",
        "\n",
        "    # multiply them together; since dNdX is 1x1 here, order doesn't matter\n",
        "    return np.dot(dSdN, dNdX)"
      ]
    },
    {
      "cell_type": "markdown",
      "metadata": {
        "id": "iGAQt9cGJyMU"
      },
      "source": [
        "# Matrix function with two 2D matrices"
      ]
    },
    {
      "cell_type": "code",
      "execution_count": null,
      "metadata": {
        "id": "DGQyU7FWJyMU"
      },
      "outputs": [],
      "source": [
        "def matrix_function_forward_sum(X: ndarray,\n",
        "                                W: ndarray,\n",
        "                                sigma: Array_Function) -> float:\n",
        "    '''\n",
        "    Computing the result of the forward pass of this function with\n",
        "    input ndarrays X and W and function sigma.\n",
        "    '''\n",
        "    assert X.shape[1] == W.shape[0]\n",
        "\n",
        "    # matrix multiplication\n",
        "    N = np.dot(X, W)\n",
        "\n",
        "    # feeding the output of the matrix multiplication through sigma\n",
        "    S = sigma(N)\n",
        "\n",
        "    # sum all the elements\n",
        "    L = np.sum(S)\n",
        "\n",
        "    return L"
      ]
    },
    {
      "cell_type": "code",
      "execution_count": null,
      "metadata": {
        "id": "BcwZwrjVJyMV"
      },
      "outputs": [],
      "source": [
        "def matrix_function_backward_sum_1(X: ndarray,\n",
        "                                   W: ndarray,\n",
        "                                   sigma: Array_Function) -> ndarray:\n",
        "    '''\n",
        "    Compute derivative of matrix function with a sum with respect to the\n",
        "    first matrix input\n",
        "    '''\n",
        "    assert X.shape[1] == W.shape[0]\n",
        "\n",
        "    # matrix multiplication\n",
        "    N = np.dot(X, W)\n",
        "\n",
        "    # feeding the output of the matrix multiplication through sigma\n",
        "    S = sigma(N)\n",
        "\n",
        "    # sum all the elements\n",
        "    L = np.sum(S)\n",
        "\n",
        "    # note: I'll refer to the derivatives by their quantities here,\n",
        "    # unlike the math where we referred to their function names\n",
        "\n",
        "    # dLdS - just 1s\n",
        "    dLdS = np.ones_like(S)\n",
        "\n",
        "    # dSdN\n",
        "    dSdN = sigma(N) * (1 - sigma(N))\n",
        "\n",
        "    # dLdN\n",
        "    dLdN = dLdS * dSdN\n",
        "\n",
        "    # dNdX\n",
        "    dNdX=W.T\n",
        "\n",
        "    # dLdX\n",
        "    dLdX = np.dot(dLdN, dNdX)\n",
        "\n",
        "    return dLdX"
      ]
    },
    {
      "cell_type": "markdown",
      "metadata": {
        "id": "a1Cw1O7hJyMV"
      },
      "source": [
        "#### Testing"
      ]
    },
    {
      "cell_type": "code",
      "execution_count": null,
      "metadata": {
        "id": "Cug_ivlPJyMV",
        "outputId": "7266564c-a4ac-461c-835e-e726d886dacd",
        "colab": {
          "base_uri": "https://localhost:8080/"
        }
      },
      "outputs": [
        {
          "output_type": "stream",
          "name": "stdout",
          "text": [
            "X:\n",
            "[[-1.5775 -0.6664  0.6391]\n",
            " [-0.5615  0.7373 -1.4231]\n",
            " [-1.4435 -0.3913  0.1539]]\n",
            "L:\n",
            "2.3755\n",
            "\n",
            "dLdX:\n",
            "[[ 0.2489 -0.3748  0.0112]\n",
            " [ 0.126  -0.2781 -0.1395]\n",
            " [ 0.2299 -0.3662 -0.0225]]\n"
          ]
        }
      ],
      "source": [
        "np.random.seed(190204)\n",
        "X = np.random.randn(3, 3)\n",
        "W = np.random.randn(3, 2)\n",
        "\n",
        "print(\"X:\")\n",
        "print(X)\n",
        "\n",
        "print(\"L:\")\n",
        "print(round(matrix_function_forward_sum(X, W, sigmoid), 4))\n",
        "print()\n",
        "print(\"dLdX:\")\n",
        "print(matrix_function_backward_sum_1(X, W , sigmoid))"
      ]
    },
    {
      "cell_type": "code",
      "execution_count": null,
      "metadata": {
        "id": "h_mJYGS4JyMV",
        "outputId": "b004fc8c-d5f7-410b-b7c2-ce50e880093a",
        "colab": {
          "base_uri": "https://localhost:8080/"
        }
      },
      "outputs": [
        {
          "output_type": "stream",
          "name": "stdout",
          "text": [
            "0.2489\n"
          ]
        }
      ],
      "source": [
        "X1 = X.copy()\n",
        "X1[0, 0] += 0.001\n",
        "\n",
        "print(round(\n",
        "        (matrix_function_forward_sum(X1, W, sigmoid) - \\\n",
        "         matrix_function_forward_sum(X, W, sigmoid)) / 0.001, 4))"
      ]
    },
    {
      "cell_type": "markdown",
      "metadata": {
        "id": "25MWvnWfJyMV"
      },
      "source": [
        "Same again!"
      ]
    },
    {
      "cell_type": "markdown",
      "metadata": {
        "id": "CydfMC8eJyMV"
      },
      "source": [
        "### Plotting"
      ]
    },
    {
      "cell_type": "code",
      "execution_count": null,
      "metadata": {
        "id": "Hw4GEQiAJyMV"
      },
      "outputs": [],
      "source": [
        "def matrix_function_forward_sum(X: ndarray,\n",
        "                                W: ndarray,\n",
        "                                sigma: Array_Function,\n",
        "                                modify_x11: bool = False,\n",
        "                                x11: float = 0.5) -> float:\n",
        "    '''\n",
        "    Computing the result of the forward pass of this function with\n",
        "    input Tensors X and W and function sigma.\n",
        "    '''\n",
        "    assert X.shape[1] == W.shape[0]\n",
        "\n",
        "    if modify_x11:\n",
        "        X1 = X.copy()\n",
        "        X1[0][0] = x11\n",
        "\n",
        "    # matrix multiplication\n",
        "    N = np.dot(X1, W)\n",
        "\n",
        "    # feeding the output of the matrix multiplication through sigma\n",
        "    S = sigma(N)\n",
        "\n",
        "    # sum all the elements\n",
        "    L = np.sum(S)\n",
        "\n",
        "    return L"
      ]
    },
    {
      "cell_type": "code",
      "execution_count": null,
      "metadata": {
        "id": "dBIHpFOOJyMW",
        "outputId": "f983ba1a-2788-4a32-fe6f-baf3f4555a22",
        "colab": {
          "base_uri": "https://localhost:8080/"
        }
      },
      "outputs": [
        {
          "output_type": "stream",
          "name": "stdout",
          "text": [
            "X:\n",
            "[[-1.5775 -0.6664  0.6391]\n",
            " [-0.5615  0.7373 -1.4231]\n",
            " [-1.4435 -0.3913  0.1539]]\n"
          ]
        }
      ],
      "source": [
        "print(\"X:\")\n",
        "print(X)"
      ]
    },
    {
      "cell_type": "code",
      "execution_count": null,
      "metadata": {
        "id": "6pkHJ6azJyMW"
      },
      "outputs": [],
      "source": [
        "x11s = np.arange(X[0][0] - 1, X[0][0] + 1, 0.01)\n",
        "Ls = [matrix_function_forward_sum(X, W, sigmoid,\n",
        "                                  modify_x11 = True,\n",
        "                                  x11=x11) for x11 in x11s]"
      ]
    },
    {
      "cell_type": "code",
      "execution_count": null,
      "metadata": {
        "scrolled": true,
        "id": "YJyCU-IgJyMW",
        "outputId": "fbc8831c-696e-4983-f34c-077c2dd0e8b7",
        "colab": {
          "base_uri": "https://localhost:8080/",
          "height": 450
        }
      },
      "outputs": [
        {
          "output_type": "display_data",
          "data": {
            "text/plain": [
              "<Figure size 640x480 with 1 Axes>"
            ],
            "image/png": "[encoded data removed]"
          },
          "metadata": {}
        }
      ],
      "source": [
        "plt.plot(x11s, Ls);\n",
        "# plt.title(\"Value of $L$ as $x_{11}$ changes holding\\nother values of $X$ and $W$ constant\")\n",
        "plt.xlabel(\"$x_{11}$\")\n",
        "plt.ylabel(\"$L$\");\n",
        "# plt.savefig(IMG_FOLDER_PATH + \"18_x11_vs_L.png\");\n",
        "# plt.savefig(PDF_IMG_FOLDER_PATH + \"18_x11_vs_L.pdf\");"
      ]
    },
    {
      "cell_type": "code",
      "source": [],
      "metadata": {
        "id": "G20xCoxXV8_o"
      },
      "execution_count": null,
      "outputs": []
    }
  ],
  "metadata": {
    "kernelspec": {
      "display_name": "Python 3 (ipykernel)",
      "language": "python",
      "name": "python3"
    },
    "language_info": {
      "codemirror_mode": {
        "name": "ipython",
        "version": 3
      },
      "file_extension": ".py",
      "mimetype": "text/x-python",
      "name": "python",
      "nbconvert_exporter": "python",
      "pygments_lexer": "ipython3",
      "version": "3.11.8"
    },
    "colab": {
      "provenance": [],
      "include_colab_link": true
    }
  },
  "nbformat": 4,
  "nbformat_minor": 0
}