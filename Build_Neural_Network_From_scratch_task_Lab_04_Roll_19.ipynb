{
  "cells": [
    {
      "cell_type": "markdown",
      "metadata": {
        "id": "view-in-github",
        "colab_type": "text"
      },
      "source": [
        "<a href=\"https://colab.research.google.com/github/apurba1914/Machine-Learning-Lab/blob/main/Build_Neural_Network_From_scratch_task_Lab_04_Roll_19.ipynb\" target=\"_parent\"><img src=\"https://colab.research.google.com/assets/colab-badge.svg\" alt=\"Open In Colab\"/></a>"
      ]
    },
    {
      "cell_type": "code",
      "execution_count": null,
      "metadata": {
        "id": "YNqIURioE2yA"
      },
      "outputs": [],
      "source": [
        "from sklearn.datasets import fetch_openml # Import fetch_openml instead of fetch_mldata\n",
        "\n",
        "# Load the MNIST dataset using fetch_openml\n",
        "mnist = fetch_openml('mnist_784', version=1, as_frame=False)\n",
        "\n",
        "# Extract the data and target labels\n",
        "X, y = mnist[\"data\"], mnist[\"target\"]"
      ]
    },
    {
      "cell_type": "code",
      "execution_count": null,
      "metadata": {
        "id": "vvdGeZL6E-So"
      },
      "outputs": [],
      "source": [
        "X = X / 255"
      ]
    },
    {
      "cell_type": "code",
      "execution_count": null,
      "metadata": {
        "id": "J0HgbsMuFDRP"
      },
      "outputs": [],
      "source": [
        "#for 2 class classification set label for \"zero\" to 1 and other digits to 0\n",
        "\n",
        "import numpy as np\n",
        "\n",
        "y_new = np.zeros(y.shape)\n",
        "y_new[np.where(y == 0.0)[0]] = 1\n",
        "y = y_new"
      ]
    },
    {
      "cell_type": "code",
      "execution_count": null,
      "metadata": {
        "id": "vAoENszUFmck"
      },
      "outputs": [],
      "source": [
        "m = 60000\n",
        "m_test = X.shape[0] - m\n",
        "\n",
        "X_train, X_test = X[:m].T, X[m:].T\n",
        "y_train, y_test = y[:m].reshape(1,m), y[m:].reshape(1,m_test)"
      ]
    },
    {
      "cell_type": "code",
      "execution_count": null,
      "metadata": {
        "id": "ZNjH608nFpxW"
      },
      "outputs": [],
      "source": [
        "#shuffle the training set for good measure\n",
        "np.random.seed(138)\n",
        "shuffle_index = np.random.permutation(m)\n",
        "X_train, y_train = X_train[:,shuffle_index], y_train[:,shuffle_index]"
      ]
    },
    {
      "cell_type": "code",
      "execution_count": null,
      "metadata": {
        "colab": {
          "base_uri": "https://localhost:8080/",
          "height": 424
        },
        "id": "Y56uEb_7FsUC",
        "outputId": "8a4912a3-13da-48d6-f302-2c0a1d0ec1b3"
      },
      "outputs": [
        {
          "data": {
            "image/png": "[encoded data removed]",
            "text/plain": [
              "<Figure size 640x480 with 1 Axes>"
            ]
          },
          "metadata": {},
          "output_type": "display_data"
        },
        {
          "name": "stdout",
          "output_type": "stream",
          "text": [
            "[0.]\n"
          ]
        }
      ],
      "source": [
        "\n",
        "#Let’s have a look at a random image and label just to make sure we didn’t make any mistake\n",
        "\n",
        "%matplotlib inline\n",
        "import matplotlib\n",
        "import matplotlib.pyplot as plt\n",
        "\n",
        "i = 3\n",
        "plt.imshow(X_train[:,i].reshape(28,28), cmap = matplotlib.cm.binary)\n",
        "plt.axis(\"off\")\n",
        "plt.show()\n",
        "print(y_train[:,i])"
      ]
    },
    {
      "cell_type": "code",
      "execution_count": null,
      "metadata": {
        "id": "tsCeRKG-F212"
      },
      "outputs": [],
      "source": [
        "#define the sigmoid function\n",
        "\n",
        "def sigmoid(z):\n",
        "    s = 1 / (1 + np.exp(-z))\n",
        "    return s"
      ]
    },
    {
      "cell_type": "code",
      "execution_count": null,
      "metadata": {
        "id": "hX-28UXGF7a0"
      },
      "outputs": [],
      "source": [
        "#define binary crossentropy cost function\n",
        "\n",
        "def compute_loss(Y, Y_hat):\n",
        "\n",
        "    m =  Y.shape[1]\n",
        "    L = -(1 / m) * np.sum(Y * np.log(Y_hat) + (1 - Y) * np.log(1 - Y_hat))\n",
        "\n",
        "    return L\n",
        "\n"
      ]
    },
    {
      "cell_type": "code",
      "execution_count": null,
      "metadata": {
        "colab": {
          "base_uri": "https://localhost:8080/",
          "height": 72
        },
        "id": "zmBv-rHaVc-A",
        "outputId": "3d4c9cf4-265a-497b-9af1-71d4f34a1baa"
      },
      "outputs": [
        {
          "data": {
            "application/vnd.google.colaboratory.intrinsic+json": {
              "type": "string"
            },
            "text/plain": [
              "'def compute_loss(Y, Y_hat):\\n\\n    m = Y.shape[1]\\n    L = np.mean(-(Y*np.log(Y_hat)+(1-Y)*np.log(1-Y_hat)))\\n\\n    return L\\nY=[0.1,0.22,0.33]\\nY=np.array([Y])\\nY_hat=[0.2,0.3,0.4]\\nY_hat=np.array([Y_hat])\\nprint(compute_loss(Y,Y_hat))\\n'"
            ]
          },
          "execution_count": 30,
          "metadata": {},
          "output_type": "execute_result"
        }
      ],
      "source": [
        "\"\"\"def compute_loss(Y, Y_hat):\n",
        "\n",
        "    m = Y.shape[1]\n",
        "    L = np.mean(-(Y*np.log(Y_hat)+(1-Y)*np.log(1-Y_hat)))\n",
        "\n",
        "    return L\n",
        "Y=[0.1,0.22,0.33]\n",
        "Y=np.array([Y])\n",
        "Y_hat=[0.2,0.3,0.4]\n",
        "Y_hat=np.array([Y_hat])\n",
        "print(compute_loss(Y,Y_hat))\n",
        "\"\"\""
      ]
    },
    {
      "cell_type": "code",
      "execution_count": null,
      "metadata": {
        "colab": {
          "base_uri": "https://localhost:8080/"
        },
        "id": "NJIUh20NF_C5",
        "outputId": "ccd1c9e7-24b0-481f-e7cb-d43e26b7006a"
      },
      "outputs": [
        {
          "name": "stdout",
          "output_type": "stream",
          "text": [
            "Epoch 0 cost:  0.6678661598220238\n",
            "Epoch 100 cost:  0.005264078835142466\n",
            "Epoch 200 cost:  0.0028656734926140997\n",
            "Epoch 300 cost:  0.002002508171183948\n",
            "Epoch 400 cost:  0.0015514460635488703\n",
            "Epoch 500 cost:  0.0012722377396089406\n",
            "Epoch 600 cost:  0.0010815561841266586\n",
            "Epoch 700 cost:  0.0009426523814024557\n",
            "Epoch 800 cost:  0.0008367336974776137\n",
            "Epoch 900 cost:  0.0007531641748175973\n",
            "Epoch 1000 cost:  0.0006854605629713902\n",
            "Epoch 1100 cost:  0.0006294399653825911\n",
            "Epoch 1200 cost:  0.0005822795729631029\n",
            "Epoch 1300 cost:  0.0005420036318064089\n",
            "Epoch 1400 cost:  0.0005071868156853183\n",
            "Epoch 1500 cost:  0.0004767743553490861\n",
            "Epoch 1600 cost:  0.00044996853135566224\n",
            "Epoch 1700 cost:  0.0004261545765280452\n",
            "Epoch 1800 cost:  0.0004048508728825912\n",
            "Epoch 1900 cost:  0.00038567461656774583\n",
            "Final cost: 0.0003684830419788492\n"
          ]
        }
      ],
      "source": [
        "learning_rate = .1\n",
        "\n",
        "X = X_train\n",
        "Y = y_train\n",
        "\n",
        "n_x = X.shape[0]\n",
        "m = X.shape[1]\n",
        "\n",
        "W = np.random.randn(n_x, 1) * 0.01\n",
        "b = np.zeros((1, 1))\n",
        "\n",
        "for i in range(2000):\n",
        "    Z = np.matmul(W.T, X) + b\n",
        "    A = sigmoid(Z)\n",
        "\n",
        "    cost = compute_loss(Y, A)\n",
        "\n",
        "    dW = 1 / m * np.dot(X, (A - Y).T)\n",
        "    db = 1 / m * np.sum(A - Y)\n",
        "\n",
        "    W = W - learning_rate * dW\n",
        "    b = b - learning_rate * db\n",
        "\n",
        "\n",
        "    if (i % 100 == 0):\n",
        "        print(\"Epoch\", i, \"cost: \", cost)\n",
        "\n",
        "print(\"Final cost:\", cost)"
      ]
    },
    {
      "cell_type": "code",
      "execution_count": null,
      "metadata": {
        "colab": {
          "base_uri": "https://localhost:8080/"
        },
        "id": "GDcjlTYHGJmh",
        "outputId": "17a24774-474a-46ea-f93b-0fb71c4f9968"
      },
      "outputs": [
        {
          "name": "stdout",
          "output_type": "stream",
          "text": [
            "[[10000]]\n"
          ]
        },
        {
          "name": "stderr",
          "output_type": "stream",
          "text": [
            "/usr/local/lib/python3.10/dist-packages/sklearn/metrics/_classification.py:409: UserWarning: A single label was found in 'y_true' and 'y_pred'. For the confusion matrix to have the correct shape, use the 'labels' parameter to pass all known labels.\n",
            "  warnings.warn(\n"
          ]
        }
      ],
      "source": [
        "from sklearn.metrics import classification_report, confusion_matrix\n",
        "\n",
        "Z = np.dot(W.T, X_test) + b\n",
        "A = sigmoid(Z)\n",
        "\n",
        "predictions = (A>.5)[0,:]\n",
        "labels = (y_test == 1)[0,:]\n",
        "\n",
        "print(confusion_matrix(predictions, labels))"
      ]
    },
    {
      "cell_type": "code",
      "execution_count": null,
      "metadata": {
        "colab": {
          "base_uri": "https://localhost:8080/"
        },
        "id": "jTG8c67GGU5-",
        "outputId": "c07ab9fd-34cd-4c08-9f4d-1ece28178245"
      },
      "outputs": [
        {
          "name": "stdout",
          "output_type": "stream",
          "text": [
            "              precision    recall  f1-score   support\n",
            "\n",
            "       False       1.00      1.00      1.00     10000\n",
            "\n",
            "    accuracy                           1.00     10000\n",
            "   macro avg       1.00      1.00      1.00     10000\n",
            "weighted avg       1.00      1.00      1.00     10000\n",
            "\n"
          ]
        }
      ],
      "source": [
        "print(classification_report(predictions, labels))"
      ]
    },
    {
      "cell_type": "code",
      "execution_count": null,
      "metadata": {
        "colab": {
          "base_uri": "https://localhost:8080/"
        },
        "id": "V1wLZOD8GW65",
        "outputId": "87058e5e-9a18-4749-b462-033c40f97169"
      },
      "outputs": [
        {
          "name": "stdout",
          "output_type": "stream",
          "text": [
            "Epoch 0 cost:  2.42791323601238\n",
            "Epoch 100 cost:  7.832014666442542e-15\n",
            "Final cost: 7.832014666442542e-15\n"
          ]
        }
      ],
      "source": [
        "X = X_train\n",
        "Y = y_train\n",
        "\n",
        "n_x = X.shape[0]\n",
        "n_h = 64\n",
        "learning_rate = 1\n",
        "\n",
        "W1 = np.random.randn(n_h, n_x)\n",
        "b1 = np.zeros((n_h, 1))\n",
        "W2 = np.random.randn(1, n_h)\n",
        "b2 = np.zeros((1, 1))\n",
        "\n",
        "for i in range(200):\n",
        "\n",
        "    Z1 = np.dot(W1, X) + b1\n",
        "    A1 = sigmoid(Z1)\n",
        "    Z2 = np.dot(W2, A1) + b2\n",
        "    A2 = sigmoid(Z2)\n",
        "\n",
        "    cost = compute_loss(Y, A2)\n",
        "\n",
        "    dZ2 = A2-Y\n",
        "    dW2 = 1 / m * np.dot(dZ2, A1.T)\n",
        "    db2 = 1 / m * np.sum(dZ2)\n",
        "\n",
        "    dA1 = np.dot(W2.T, dZ2)\n",
        "    dZ1 = dA1 * (1 - np.power(A1, 2))\n",
        "    dW1 = 1 / m * np.dot(dZ1, X.T)\n",
        "    db1 = 1/m * np.sum(dZ1)\n",
        "\n",
        "\n",
        "    W2 = W2 - learning_rate * dW2\n",
        "    b2 = b2 - learning_rate * db2\n",
        "    W1 = W1 - learning_rate * dW1\n",
        "    b1 = b1 - learning_rate * db1\n",
        "\n",
        "    if i % 100 == 0:\n",
        "        print(\"Epoch\", i, \"cost: \", cost)\n",
        "\n",
        "print(\"Final cost:\", cost)"
      ]
    },
    {
      "cell_type": "code",
      "execution_count": null,
      "metadata": {
        "colab": {
          "base_uri": "https://localhost:8080/"
        },
        "id": "l11XNOR0Gktc",
        "outputId": "28eb8072-b4cc-439c-a35b-042c57f6a08c"
      },
      "outputs": [
        {
          "name": "stdout",
          "output_type": "stream",
          "text": [
            "[[10000]]\n",
            "              precision    recall  f1-score   support\n",
            "\n",
            "       False       1.00      1.00      1.00     10000\n",
            "\n",
            "    accuracy                           1.00     10000\n",
            "   macro avg       1.00      1.00      1.00     10000\n",
            "weighted avg       1.00      1.00      1.00     10000\n",
            "\n"
          ]
        },
        {
          "name": "stderr",
          "output_type": "stream",
          "text": [
            "/usr/local/lib/python3.10/dist-packages/sklearn/metrics/_classification.py:409: UserWarning: A single label was found in 'y_true' and 'y_pred'. For the confusion matrix to have the correct shape, use the 'labels' parameter to pass all known labels.\n",
            "  warnings.warn(\n"
          ]
        }
      ],
      "source": [
        "Z1 = np.dot(W1, X_test) + b1\n",
        "A1 = sigmoid(Z1)\n",
        "Z2 = np.dot(W2, A1) + b2\n",
        "A2 = sigmoid(Z2)\n",
        "\n",
        "predictions = (A2>.5)[0,:]\n",
        "labels = (y_test == 1)[0,:]\n",
        "\n",
        "print(confusion_matrix(predictions, labels))\n",
        "print(classification_report(predictions, labels))"
      ]
    },
    {
      "cell_type": "code",
      "execution_count": null,
      "metadata": {
        "id": "ZOH2GXETGm7P"
      },
      "outputs": [],
      "source": [
        "from sklearn.datasets import fetch_openml\n",
        "mnist = fetch_openml('mnist_784', version=1, as_frame=False)\n",
        "X, y = mnist[\"data\"], mnist[\"target\"]\n",
        "\n",
        "X = X / 255"
      ]
    },
    {
      "cell_type": "code",
      "execution_count": null,
      "metadata": {
        "id": "1obdhNDsGqRJ"
      },
      "outputs": [],
      "source": [
        "digits = 10\n",
        "examples = y.shape[0]\n",
        "\n",
        "y = y.reshape(1, examples)\n",
        "\n",
        "Y_new = np.eye(digits)[y.astype('int32')]\n",
        "Y_new = Y_new.T.reshape(digits, examples)"
      ]
    },
    {
      "cell_type": "code",
      "execution_count": null,
      "metadata": {
        "id": "gIh7xvvdGsuK"
      },
      "outputs": [],
      "source": [
        "m = 60000\n",
        "m_test = X.shape[0] - m\n",
        "\n",
        "X_train, X_test = X[:m].T, X[m:].T\n",
        "Y_train, Y_test = Y_new[:,:m], Y_new[:,m:]\n",
        "\n",
        "shuffle_index = np.random.permutation(m)\n",
        "X_train, Y_train = X_train[:, shuffle_index], Y_train[:, shuffle_index]"
      ]
    },
    {
      "cell_type": "code",
      "execution_count": null,
      "metadata": {
        "id": "MaqLRgi7Gwp0"
      },
      "outputs": [],
      "source": [
        "def compute_multiclass_loss(Y, Y_hat):\n",
        "\n",
        "    L_sum = np.sum(np.multiply(Y, np.log(Y_hat)))\n",
        "    m = Y.shape[1]\n",
        "    L = -(1/m) * L_sum\n",
        "\n",
        "    return L"
      ]
    },
    {
      "cell_type": "code",
      "execution_count": null,
      "metadata": {
        "colab": {
          "background_save": true,
          "base_uri": "https://localhost:8080/"
        },
        "id": "Xnk-mKxWG01c",
        "outputId": "9a1d7a98-5558-41a5-eae7-e07a829ebeb3"
      },
      "outputs": [
        {
          "name": "stdout",
          "output_type": "stream",
          "text": [
            "Epoch 0 cost:  6.959902904661416\n",
            "Epoch 100 cost:  0.5999580157707288\n",
            "Epoch 200 cost:  0.4366499102453615\n",
            "Epoch 300 cost:  0.4021514446158924\n",
            "Epoch 400 cost:  0.3831174054734126\n",
            "Epoch 500 cost:  0.36917090220732546\n",
            "Epoch 600 cost:  0.35810435912665806\n",
            "Epoch 700 cost:  0.34911809832448\n",
            "Epoch 800 cost:  0.34136656915868124\n"
          ]
        },
        {
          "name": "stderr",
          "output_type": "stream",
          "text": [
            "<ipython-input-25-196c71070f63>:4: RuntimeWarning: overflow encountered in exp\n",
            "  s = 1 / (1 + np.exp(-z))\n"
          ]
        },
        {
          "name": "stdout",
          "output_type": "stream",
          "text": [
            "Epoch 900 cost:  0.3337342808091601\n",
            "Epoch 1000 cost:  0.32687068403184205\n",
            "Epoch 1100 cost:  0.3198159189648171\n",
            "Epoch 1200 cost:  0.31224515561209154\n",
            "Epoch 1300 cost:  0.3062165169608385\n",
            "Epoch 1400 cost:  0.30096803059541993\n",
            "Epoch 1500 cost:  0.29633907955025673\n",
            "Epoch 1600 cost:  0.29267479795934137\n",
            "Epoch 1700 cost:  0.29007652679010326\n",
            "Epoch 1800 cost:  0.287597899661429\n",
            "Epoch 1900 cost:  0.2856783545619058\n",
            "Final cost: 0.2842022335077571\n"
          ]
        }
      ],
      "source": [
        "n_x = X_train.shape[0]\n",
        "n_h = 64\n",
        "learning_rate = 1\n",
        "\n",
        "W1 = np.random.randn(n_h, n_x)\n",
        "b1 = np.zeros((n_h, 1))\n",
        "W2 = np.random.randn(digits, n_h)\n",
        "b2 = np.zeros((digits, 1))\n",
        "\n",
        "\n",
        "X = X_train\n",
        "Y = Y_train\n",
        "\n",
        "for i in range(2000):\n",
        "\n",
        "    Z1 = np.dot(W1, X) + b1\n",
        "    A1 = sigmoid(Z1)\n",
        "    Z2 = np.dot(W2, A1) + b2\n",
        "    A2 = np.exp(Z2) / np.sum(np.exp(Z2), axis=0)\n",
        "\n",
        "    cost = compute_multiclass_loss(Y, A2)\n",
        "\n",
        "    dZ2 = A2-Y\n",
        "    dW2 = 1 / m * np.dot(dZ2, A1.T)\n",
        "    db2 = 1 / m * np.sum(dZ2, axis=1, keepdims=True)\n",
        "\n",
        "\n",
        "    dA1 = np.dot(W2.T, dZ2)\n",
        "    dZ1 = dA1 * (1 - np.power(A1, 2))\n",
        "    dW1 = 1 / m * np.dot(dZ1, X.T)\n",
        "    db1 = 1/m * np.sum(dZ1, axis=1, keepdims=True)\n",
        "\n",
        "\n",
        "    W2 = W2 - learning_rate * dW2\n",
        "    b2 = b2 - learning_rate * db2\n",
        "    W1 = W1 - learning_rate * dW1\n",
        "    b1 = b1 - learning_rate * db1\n",
        "\n",
        "\n",
        "\n",
        "\n",
        "    if (i % 100 == 0):\n",
        "        print(\"Epoch\", i, \"cost: \", cost)\n",
        "\n",
        "print(\"Final cost:\", cost)"
      ]
    },
    {
      "cell_type": "code",
      "execution_count": null,
      "metadata": {
        "colab": {
          "background_save": true
        },
        "id": "yBQGJHWAG6fR",
        "outputId": "198b5336-1470-468b-d5f9-12232d61a3ed"
      },
      "outputs": [
        {
          "name": "stdout",
          "output_type": "stream",
          "text": [
            "[[ 941    0   18    6    6    8   14    2   10   10]\n",
            " [   1 1104   10    4    2    5    4   11    3    8]\n",
            " [   6    7  924   27    3    7    5   23   24    8]\n",
            " [   5   10   28  884    2   41    2   13   32   14]\n",
            " [   2    0    6    1  909    7   12    7    6   41]\n",
            " [   8    2    3   31    3  776   20    0   24   11]\n",
            " [   9    3   13    5    9   14  897    1   13    2]\n",
            " [   4    1    8   16    5    9    1  947    9   26]\n",
            " [   2    7   19   28    7   15    3    3  833   16]\n",
            " [   2    1    3    8   36   10    0   21   20  873]]\n",
            "              precision    recall  f1-score   support\n",
            "\n",
            "           0       0.96      0.93      0.94      1015\n",
            "           1       0.97      0.96      0.97      1152\n",
            "           2       0.90      0.89      0.89      1034\n",
            "           3       0.88      0.86      0.87      1031\n",
            "           4       0.93      0.92      0.92       991\n",
            "           5       0.87      0.88      0.88       878\n",
            "           6       0.94      0.93      0.93       966\n",
            "           7       0.92      0.92      0.92      1026\n",
            "           8       0.86      0.89      0.87       933\n",
            "           9       0.87      0.90      0.88       974\n",
            "\n",
            "    accuracy                           0.91     10000\n",
            "   macro avg       0.91      0.91      0.91     10000\n",
            "weighted avg       0.91      0.91      0.91     10000\n",
            "\n"
          ]
        },
        {
          "name": "stderr",
          "output_type": "stream",
          "text": [
            "<ipython-input-25-196c71070f63>:4: RuntimeWarning: overflow encountered in exp\n",
            "  s = 1 / (1 + np.exp(-z))\n"
          ]
        }
      ],
      "source": [
        "Z1 = np.dot(W1, X_test) + b1\n",
        "A1 = sigmoid(Z1)\n",
        "Z2 = np.dot(W2, A1) + b2\n",
        "A2 = np.exp(Z2) / np.sum(np.exp(Z2), axis=0)\n",
        "\n",
        "predictions = np.argmax(A2, axis=0)\n",
        "labels = np.argmax(Y_test, axis=0)\n",
        "\n",
        "print(confusion_matrix(predictions, labels))\n",
        "print(classification_report(predictions, labels))"
      ]
    },
    {
      "cell_type": "code",
      "execution_count": null,
      "metadata": {
        "id": "khro7k_xG9Jm"
      },
      "outputs": [],
      "source": []
    }
  ],
  "metadata": {
    "colab": {
      "provenance": [],
      "include_colab_link": true
    },
    "kernelspec": {
      "display_name": "Python 3",
      "name": "python3"
    },
    "language_info": {
      "name": "python"
    }
  },
  "nbformat": 4,
  "nbformat_minor": 0
}